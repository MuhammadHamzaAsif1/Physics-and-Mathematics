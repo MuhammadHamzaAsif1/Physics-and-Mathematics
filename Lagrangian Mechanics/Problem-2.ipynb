{
 "cells": [
  {
   "cell_type": "code",
   "execution_count": 11,
   "id": "578fcd3b-5cee-4133-868e-95694d75684b",
   "metadata": {},
   "outputs": [],
   "source": [
    "import sympy as smp"
   ]
  },
  {
   "cell_type": "markdown",
   "id": "caf014f5-9bf0-4d3b-90c2-de47f5d4e0c0",
   "metadata": {},
   "source": [
    "# Find the force acting on a simple pendulum.\n",
    "\n",
    "Using the Lagrangian : $$ L = T - V $$\n",
    "\n",
    "Where T is the kinetic energy of the of the ball and V is the potential energy of the ball.\n",
    "\n",
    "# Defining the Problem:\n",
    "The ball is oscilating right and left with an angle thetha.\n",
    "\n",
    "Kinetic Energy: $$ T = \\frac{1}{2}m({\\dot x^{2} + \\dot y^{2}}) $$\n",
    "\n",
    "Where x and y are: $$ \\dot x = \\frac{d}{dt}l\\cos{\\theta} = l\\cos{\\theta}\\dot \\theta $$ and $$ \\dot y = \\frac{d}{dt}-l\\sin{\\theta} = -l\\sin{\\theta}\\dot \\theta $$ Therefore, Kinetic Energy =  $$ T = \\frac{1}{2}m((l\\cos{\\theta}\\dot \\theta)^{2} + (-l\\sin{\\theta}\\dot)^{2}) $$\n",
    "\n",
    "Potenial Energy : $$ mgy = -mgl\\cos{\\theta} $$\n",
    "\n",
    "Euler Lagrange Equation: $$ \\frac{\\partial{L}}{\\partial{q}} - \\frac{d}{dt} \\frac{\\partial{L}}{\\partial{\\dot{q}}} = 0 $$"
   ]
  },
  {
   "cell_type": "markdown",
   "id": "705c0692-9713-46c2-9969-3b723a3db92b",
   "metadata": {},
   "source": [
    "# Define the variables"
   ]
  },
  {
   "cell_type": "code",
   "execution_count": 12,
   "id": "835b8494-05d8-4c16-9e3c-9727a6fc8920",
   "metadata": {},
   "outputs": [],
   "source": [
    "m, g, t, l = smp.symbols(\"m g t l\")\n",
    "the = smp.symbols(r\"\\theta\", cls = smp.Function)\n",
    "the = the(t)\n",
    "the_d = smp.diff(the,t)\n",
    "the_dd = smp.diff(the_d,t)"
   ]
  },
  {
   "cell_type": "code",
   "execution_count": 13,
   "id": "2b787d30-b861-441f-b7a4-d4ad42fba275",
   "metadata": {},
   "outputs": [],
   "source": [
    "xdot = l*smp.cos(the)*the_d\n",
    "ydot = -l*smp.sin(the)*the_d"
   ]
  },
  {
   "cell_type": "markdown",
   "id": "0664d6cb-c1ce-4cd0-8871-ff07a1c97be6",
   "metadata": {},
   "source": [
    "# Solution"
   ]
  },
  {
   "cell_type": "code",
   "execution_count": 14,
   "id": "ac4cb966-b370-401f-91e4-eaaea802b1c6",
   "metadata": {},
   "outputs": [
    {
     "data": {
      "text/latex": [
       "$\\displaystyle \\frac{l^{2} m \\left(\\frac{d}{d t} \\theta{\\left(t \\right)}\\right)^{2}}{2}$"
      ],
      "text/plain": [
       "l**2*m*Derivative(\\theta(t), t)**2/2"
      ]
     },
     "execution_count": 14,
     "metadata": {},
     "output_type": "execute_result"
    }
   ],
   "source": [
    "kinetic_energy = smp.Rational(1/2)*m*((xdot)**2 + (ydot)**2).simplify()\n",
    "kinetic_energy"
   ]
  },
  {
   "cell_type": "code",
   "execution_count": 15,
   "id": "586709f6-d133-4604-bdb8-8cac6312e885",
   "metadata": {},
   "outputs": [
    {
     "data": {
      "text/latex": [
       "$\\displaystyle - g l m \\cos{\\left(\\theta{\\left(t \\right)} \\right)}$"
      ],
      "text/plain": [
       "-g*l*m*cos(\\theta(t))"
      ]
     },
     "execution_count": 15,
     "metadata": {},
     "output_type": "execute_result"
    }
   ],
   "source": [
    "potential_energy = -m*g*l*(smp.cos(the))\n",
    "potential_energy"
   ]
  },
  {
   "cell_type": "markdown",
   "id": "0fe95cc0-a610-4d48-9414-9159da5436e7",
   "metadata": {},
   "source": [
    "Putting the values in the Lagrangian"
   ]
  },
  {
   "cell_type": "code",
   "execution_count": 16,
   "id": "884d5157-9a62-423c-9e23-c5503dc19162",
   "metadata": {},
   "outputs": [
    {
     "data": {
      "text/latex": [
       "$\\displaystyle g l m \\cos{\\left(\\theta{\\left(t \\right)} \\right)} + \\frac{l^{2} m \\left(\\frac{d}{d t} \\theta{\\left(t \\right)}\\right)^{2}}{2}$"
      ],
      "text/plain": [
       "g*l*m*cos(\\theta(t)) + l**2*m*Derivative(\\theta(t), t)**2/2"
      ]
     },
     "execution_count": 16,
     "metadata": {},
     "output_type": "execute_result"
    }
   ],
   "source": [
    "Lagrangian = kinetic_energy - potential_energy\n",
    "Lagrangian"
   ]
  },
  {
   "cell_type": "markdown",
   "id": "533a5427-43b7-4835-b834-ef3023964521",
   "metadata": {},
   "source": [
    "Euler Lagrange Equation: $$ \\frac{\\partial{L}}{\\partial{\\theta}} - \\frac{d}{dt} \\frac{\\partial{L}}{\\partial{\\dot{\\theta}}} = 0 $$"
   ]
  },
  {
   "cell_type": "code",
   "execution_count": 17,
   "id": "72ec5e84-b6ef-4051-bd54-a4b64307e194",
   "metadata": {},
   "outputs": [
    {
     "data": {
      "text/latex": [
       "$\\displaystyle l m \\left(g \\sin{\\left(\\theta{\\left(t \\right)} \\right)} + l \\frac{d^{2}}{d t^{2}} \\theta{\\left(t \\right)}\\right) = 0$"
      ],
      "text/plain": [
       "Eq(l*m*(g*sin(\\theta(t)) + l*Derivative(\\theta(t), (t, 2))), 0)"
      ]
     },
     "execution_count": 17,
     "metadata": {},
     "output_type": "execute_result"
    }
   ],
   "source": [
    "Euler_Lagrange = smp.Eq(smp.diff(Lagrangian, the) - smp.diff(smp.diff(Lagrangian, the_d), t),0)\n",
    "Euler_Lagrange.simplify()"
   ]
  },
  {
   "cell_type": "code",
   "execution_count": 18,
   "id": "ca346d97-d262-495e-b886-8b3cf9d6349c",
   "metadata": {},
   "outputs": [
    {
     "data": {
      "text/latex": [
       "$\\displaystyle - \\frac{g \\sin{\\left(\\theta{\\left(t \\right)} \\right)}}{l}$"
      ],
      "text/plain": [
       "-g*sin(\\theta(t))/l"
      ]
     },
     "execution_count": 18,
     "metadata": {},
     "output_type": "execute_result"
    }
   ],
   "source": [
    "smp.solve(Euler_Lagrange,the_dd)[0]"
   ]
  },
  {
   "cell_type": "code",
   "execution_count": null,
   "id": "d3bdcebd-43a4-4d46-ab8c-668f04c90ba4",
   "metadata": {},
   "outputs": [],
   "source": []
  }
 ],
 "metadata": {
  "kernelspec": {
   "display_name": "Python 3 (ipykernel)",
   "language": "python",
   "name": "python3"
  },
  "language_info": {
   "codemirror_mode": {
    "name": "ipython",
    "version": 3
   },
   "file_extension": ".py",
   "mimetype": "text/x-python",
   "name": "python",
   "nbconvert_exporter": "python",
   "pygments_lexer": "ipython3",
   "version": "3.12.3"
  }
 },
 "nbformat": 4,
 "nbformat_minor": 5
}
