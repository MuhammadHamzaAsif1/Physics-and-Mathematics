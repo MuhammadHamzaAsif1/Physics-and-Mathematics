{
 "cells": [
  {
   "cell_type": "code",
   "execution_count": 1,
   "id": "e8d78324-0ad4-473a-8061-f3c042614e5f",
   "metadata": {},
   "outputs": [],
   "source": [
    "import sympy as smp"
   ]
  },
  {
   "cell_type": "markdown",
   "id": "9b682911-2de2-4fff-a387-531dcb97973d",
   "metadata": {},
   "source": [
    "# Find the force acting on a ball that is thrown upward.\n",
    "\n",
    "Using the Lagrangian : $$ L = T - V $$\n",
    "\n",
    "Where T is the kinetic energy of the of the ball and V is the potential energy of the ball.\n",
    "\n",
    "# Defining the Problem:\n",
    "The ball is thrown upward in the Y axis.\n",
    "\n",
    "Kinetic Energy: $$ T = \\frac{1}{2}mv^{2} $$\n",
    "\n",
    "Where v can be written as: $$ v = \\frac{dy}{dt} $$ or $$ v = \\dot y $$ Therefore, Kinetic Energy =  $$ T = \\frac{1}{2}m\\dot y $$\n",
    "\n",
    "Potenial Energy : $$ mgy $$\n",
    "\n",
    "Euler Lagrange Equation: $$ \\frac{\\partial{L}}{\\partial{q}} - \\frac{d}{dt} \\frac{\\partial{L}}{\\partial{\\dot{q}}} = 0 $$  \n",
    "where q is y so: $$ \\frac{\\partial{L}}{\\partial{y}} - \\frac{d}{dt} \\frac{\\partial{L}}{\\partial{\\dot{y}}} = 0 $$\n"
   ]
  },
  {
   "cell_type": "markdown",
   "id": "99dbe521-4818-49d0-aab0-7c7f7ea9ced4",
   "metadata": {},
   "source": [
    "# Define the Variables"
   ]
  },
  {
   "cell_type": "code",
   "execution_count": 4,
   "id": "9e054921-c9e7-4837-a11f-ef98cfe0f5a7",
   "metadata": {},
   "outputs": [],
   "source": [
    "m, g, t = smp.symbols(\"m g t\")"
   ]
  },
  {
   "cell_type": "code",
   "execution_count": 5,
   "id": "f9eb22da-d2ef-42ee-959b-b0840f127f32",
   "metadata": {},
   "outputs": [],
   "source": [
    "y = smp.symbols('y',cls = smp.Function)\n",
    "y = y(t)\n",
    "y_d = smp.diff(y,t)\n",
    "y_dd = smp.diff(y_d,t)"
   ]
  },
  {
   "cell_type": "markdown",
   "id": "7ec90219-6a0e-4b76-a1de-c10c07046980",
   "metadata": {},
   "source": [
    "# Solution"
   ]
  },
  {
   "cell_type": "code",
   "execution_count": 6,
   "id": "94316bfd-f588-4bb1-93ad-2ce9f4f3bc79",
   "metadata": {},
   "outputs": [
    {
     "data": {
      "text/latex": [
       "$\\displaystyle \\frac{m \\left(\\frac{d}{d t} y{\\left(t \\right)}\\right)^{2}}{2}$"
      ],
      "text/plain": [
       "m*Derivative(y(t), t)**2/2"
      ]
     },
     "execution_count": 6,
     "metadata": {},
     "output_type": "execute_result"
    }
   ],
   "source": [
    "kinetic_energy = smp.Rational(1/2)*m*y_d**2\n",
    "kinetic_energy"
   ]
  },
  {
   "cell_type": "code",
   "execution_count": 7,
   "id": "0ce77998-6848-4b53-b273-400aad0c239d",
   "metadata": {},
   "outputs": [
    {
     "data": {
      "text/latex": [
       "$\\displaystyle g m y{\\left(t \\right)}$"
      ],
      "text/plain": [
       "g*m*y(t)"
      ]
     },
     "execution_count": 7,
     "metadata": {},
     "output_type": "execute_result"
    }
   ],
   "source": [
    "potential_energy = m*g*y\n",
    "potential_energy"
   ]
  },
  {
   "cell_type": "code",
   "execution_count": 8,
   "id": "efe8c296-b361-405d-ae2b-df74784338ac",
   "metadata": {},
   "outputs": [
    {
     "data": {
      "text/latex": [
       "$\\displaystyle - g m y{\\left(t \\right)} + \\frac{m \\left(\\frac{d}{d t} y{\\left(t \\right)}\\right)^{2}}{2}$"
      ],
      "text/plain": [
       "-g*m*y(t) + m*Derivative(y(t), t)**2/2"
      ]
     },
     "execution_count": 8,
     "metadata": {},
     "output_type": "execute_result"
    }
   ],
   "source": [
    "Lagrangian = kinetic_energy - potential_energy\n",
    "Lagrangian"
   ]
  },
  {
   "cell_type": "markdown",
   "id": "c5584c72-525e-4b54-ad1b-be90222e041b",
   "metadata": {},
   "source": [
    "Euler Lagrange Equation: $$ \\frac{\\partial{L}}{\\partial{q}} - \\frac{d}{dt} \\frac{\\partial{L}}{\\partial{\\dot{q}}} = 0 $$ "
   ]
  },
  {
   "cell_type": "code",
   "execution_count": 9,
   "id": "2dcb5362-8e18-4db2-9cb0-0d1ec6f41732",
   "metadata": {},
   "outputs": [
    {
     "data": {
      "text/latex": [
       "$\\displaystyle m \\left(- g - \\frac{d^{2}}{d t^{2}} y{\\left(t \\right)}\\right) = 0$"
      ],
      "text/plain": [
       "Eq(m*(-g - Derivative(y(t), (t, 2))), 0)"
      ]
     },
     "execution_count": 9,
     "metadata": {},
     "output_type": "execute_result"
    }
   ],
   "source": [
    "Euler_Lagrange = smp.Eq(smp.diff(Lagrangian, y) - smp.diff(smp.diff(Lagrangian, y_d), t),0)\n",
    "Euler_Lagrange.simplify()"
   ]
  },
  {
   "cell_type": "code",
   "execution_count": 10,
   "id": "bb336207-eda4-4103-a930-a1cfdcc9dc0f",
   "metadata": {},
   "outputs": [
    {
     "data": {
      "text/latex": [
       "$\\displaystyle - g$"
      ],
      "text/plain": [
       "-g"
      ]
     },
     "execution_count": 10,
     "metadata": {},
     "output_type": "execute_result"
    }
   ],
   "source": [
    "smp.solve(Euler_Lagrange,y_dd)[0]"
   ]
  },
  {
   "cell_type": "markdown",
   "id": "c6351428-3aa9-42a6-b218-284a45cf76ed",
   "metadata": {},
   "source": [
    "Hence the force acting the on the ball thrown upward is -g (since the ball is thrown upwards acceleration due to gravity is opposed. Thus, -g)."
   ]
  }
 ],
 "metadata": {
  "kernelspec": {
   "display_name": "Python 3 (ipykernel)",
   "language": "python",
   "name": "python3"
  },
  "language_info": {
   "codemirror_mode": {
    "name": "ipython",
    "version": 3
   },
   "file_extension": ".py",
   "mimetype": "text/x-python",
   "name": "python",
   "nbconvert_exporter": "python",
   "pygments_lexer": "ipython3",
   "version": "3.12.3"
  }
 },
 "nbformat": 4,
 "nbformat_minor": 5
}
