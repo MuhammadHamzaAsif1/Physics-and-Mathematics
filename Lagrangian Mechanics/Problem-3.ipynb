{
 "cells": [
  {
   "cell_type": "code",
   "execution_count": 1,
   "id": "936fe378-83d1-4d6e-a848-120be23e9e75",
   "metadata": {},
   "outputs": [],
   "source": [
    "import sympy as smp"
   ]
  },
  {
   "cell_type": "markdown",
   "id": "9df260c0-ca10-4336-afcc-72924d777d48",
   "metadata": {},
   "source": [
    "# Atwood's Machine\n",
    "Frictionless case, neglecting pulley mass"
   ]
  },
  {
   "attachments": {
    "bc1150e9-6a4c-447c-85fd-ad74472cc2d0.png": {
     "image/png": "[encoded data removed]"
    }
   },
   "cell_type": "markdown",
   "id": "38ed4999-1952-4769-81af-96cc34c9b1d6",
   "metadata": {},
   "source": [
    "![atwood-machine2.png](attachment:bc1150e9-6a4c-447c-85fd-ad74472cc2d0.png)"
   ]
  },
  {
   "cell_type": "markdown",
   "id": "4b4c25f8-768c-4ba0-867e-7826058c190a",
   "metadata": {},
   "source": [
    "Derive the formula: $$ g\\frac{m_2 - m_1}{m_1 + m_2} $$"
   ]
  },
  {
   "cell_type": "markdown",
   "id": "d843f449-e5ac-439d-9aa4-79fae8bca543",
   "metadata": {},
   "source": [
    "--------------------------------------------------------------------------------------------------------------------------------------------------------\n",
    "Kinetic Energy: $$ T = \\frac{1}{2}m_1y_1^{2} + \\frac{1}{2}m_2y_2^{2}$$\n",
    "Potential Energy: $$ V = m_1gy_1 + m_2gy_2 $$\n",
    "Euler Lagrange Equation: $$ \\frac{\\partial{L}}{\\partial{q}} - \\frac{d}{dt} \\frac{\\partial{L}}{\\partial{\\dot{q}}} = 0 $$ "
   ]
  },
  {
   "cell_type": "markdown",
   "id": "663a4865-862b-45c2-8d64-f1c63ae9d309",
   "metadata": {},
   "source": [
    "# Define the Variables"
   ]
  },
  {
   "cell_type": "code",
   "execution_count": 2,
   "id": "7daf9d23-b4cc-48c0-a3d2-7e13e57f260c",
   "metadata": {},
   "outputs": [],
   "source": [
    "m1, m2, c1, m1, m2, g, t = smp.symbols(\"m_1 m_2 c_1 m_1 m_2 g t\")\n",
    "y1,y2 = smp.symbols(\"y_1 y_2\", cls = smp.Function)\n",
    "y1 = y1(t)\n",
    "y2 = y2(t)\n",
    "y1_d = smp.diff(y1,t)\n",
    "y2_d = smp.diff(y2,t)\n",
    "y1_dd = smp.diff(y1_d,t)"
   ]
  },
  {
   "cell_type": "markdown",
   "id": "2ab5aaa5-fce3-4c22-b475-7d99e4a4b21f",
   "metadata": {},
   "source": [
    "As in the diagram: $$ y_1 + y_2 = c_1 $$ rearranging this for y2: $$ y_2 = c_1 - y_1 $$ differentiating: $$ \\dot{y_2} = \\dot{-y_1} $$ $$ \\dot{y_2}^{2} = \\dot{y_1}^{2} $$"
   ]
  },
  {
   "cell_type": "markdown",
   "id": "17f76697-b969-42d9-8d1e-3fbeaaa9dd58",
   "metadata": {},
   "source": [
    "Since $$ \\dot{y_2}^{2} = \\dot{y_1}^{2} $$"
   ]
  },
  {
   "cell_type": "markdown",
   "id": "21b3e9a3-4466-4500-8b85-46bf52df457c",
   "metadata": {},
   "source": [
    "# Solution"
   ]
  },
  {
   "cell_type": "code",
   "execution_count": 4,
   "id": "55bef499-52db-474e-b2f5-6225c5e5f408",
   "metadata": {},
   "outputs": [
    {
     "data": {
      "text/latex": [
       "$\\displaystyle \\frac{\\left(m_{1} + m_{2}\\right) \\left(\\frac{d}{d t} y_{1}{\\left(t \\right)}\\right)^{2}}{2}$"
      ],
      "text/plain": [
       "(m_1 + m_2)*Derivative(y_1(t), t)**2/2"
      ]
     },
     "execution_count": 4,
     "metadata": {},
     "output_type": "execute_result"
    }
   ],
   "source": [
    "kinetic_energy = smp.Rational(1/2)*m1*y1_d**2 + smp.Rational(1/2)*m2*y1_d**2\n",
    "kinetic_energy = kinetic_energy.simplify()\n",
    "kinetic_energy"
   ]
  },
  {
   "cell_type": "code",
   "execution_count": 5,
   "id": "4217bf1c-30dc-4a67-af82-ac91c06c428a",
   "metadata": {},
   "outputs": [
    {
     "data": {
      "text/latex": [
       "$\\displaystyle g \\left(c_{1} m_{2} + m_{1} y_{1}{\\left(t \\right)} - m_{2} y_{1}{\\left(t \\right)}\\right)$"
      ],
      "text/plain": [
       "g*(c_1*m_2 + m_1*y_1(t) - m_2*y_1(t))"
      ]
     },
     "execution_count": 5,
     "metadata": {},
     "output_type": "execute_result"
    }
   ],
   "source": [
    "potential_energy = m1*g*y1 + (- m2*g*y1) + m2*g*c1\n",
    "potential_energy = potential_energy.simplify()\n",
    "potential_energy"
   ]
  },
  {
   "cell_type": "code",
   "execution_count": 6,
   "id": "7230f37d-54ab-4862-9602-e0a99a9a2f80",
   "metadata": {},
   "outputs": [
    {
     "data": {
      "text/latex": [
       "$\\displaystyle - g \\left(c_{1} m_{2} + m_{1} y_{1}{\\left(t \\right)} - m_{2} y_{1}{\\left(t \\right)}\\right) + \\frac{\\left(m_{1} + m_{2}\\right) \\left(\\frac{d}{d t} y_{1}{\\left(t \\right)}\\right)^{2}}{2}$"
      ],
      "text/plain": [
       "-g*(c_1*m_2 + m_1*y_1(t) - m_2*y_1(t)) + (m_1 + m_2)*Derivative(y_1(t), t)**2/2"
      ]
     },
     "execution_count": 6,
     "metadata": {},
     "output_type": "execute_result"
    }
   ],
   "source": [
    "Lagrangian = kinetic_energy - potential_energy\n",
    "Lagrangian"
   ]
  },
  {
   "cell_type": "markdown",
   "id": "5012a8d3-5825-436b-b6a8-dce72082b841",
   "metadata": {},
   "source": [
    "Euler Lagrange Equation: $$ \\frac{\\partial{L}}{\\partial{y_1}} - \\frac{d}{dt} \\frac{\\partial{L}}{\\partial{\\dot{y_1}}} = 0 $$ "
   ]
  },
  {
   "cell_type": "code",
   "execution_count": 7,
   "id": "68e665db-90a2-4c77-8e4f-aaf2d4a1b590",
   "metadata": {},
   "outputs": [
    {
     "data": {
      "text/latex": [
       "$\\displaystyle g \\left(m_{1} - m_{2}\\right) + \\left(m_{1} + m_{2}\\right) \\frac{d^{2}}{d t^{2}} y_{1}{\\left(t \\right)} = 0$"
      ],
      "text/plain": [
       "Eq(g*(m_1 - m_2) + (m_1 + m_2)*Derivative(y_1(t), (t, 2)), 0)"
      ]
     },
     "execution_count": 7,
     "metadata": {},
     "output_type": "execute_result"
    }
   ],
   "source": [
    "Euler_Lagrange = smp.Eq(smp.diff(Lagrangian, y1) - smp.diff(smp.diff(Lagrangian,y1_d),t),0).simplify()\n",
    "Euler_Lagrange"
   ]
  },
  {
   "cell_type": "code",
   "execution_count": 8,
   "id": "813c28db-0fd5-4143-9c7d-459b4a6cc22e",
   "metadata": {},
   "outputs": [
    {
     "data": {
      "text/latex": [
       "$\\displaystyle \\frac{g \\left(- m_{1} + m_{2}\\right)}{m_{1} + m_{2}}$"
      ],
      "text/plain": [
       "g*(-m_1 + m_2)/(m_1 + m_2)"
      ]
     },
     "execution_count": 8,
     "metadata": {},
     "output_type": "execute_result"
    }
   ],
   "source": [
    "smp.solve(Euler_Lagrange,y1_dd)[0]"
   ]
  },
  {
   "cell_type": "code",
   "execution_count": null,
   "id": "2f22568b-bc1a-4ee6-9abd-962e78a46625",
   "metadata": {},
   "outputs": [],
   "source": []
  }
 ],
 "metadata": {
  "kernelspec": {
   "display_name": "Python 3 (ipykernel)",
   "language": "python",
   "name": "python3"
  },
  "language_info": {
   "codemirror_mode": {
    "name": "ipython",
    "version": 3
   },
   "file_extension": ".py",
   "mimetype": "text/x-python",
   "name": "python",
   "nbconvert_exporter": "python",
   "pygments_lexer": "ipython3",
   "version": "3.12.3"
  }
 },
 "nbformat": 4,
 "nbformat_minor": 5
}
